{
 "cells": [
  {
   "cell_type": "markdown",
   "id": "1f379d4a-8226-4580-b1e9-3e564035eaf4",
   "metadata": {},
   "source": [
    "Data Science Tools and Ecosystem"
   ]
  },
  {
   "cell_type": "markdown",
   "id": "6eb034fe-d0b6-4851-b2d6-feaef1a7e475",
   "metadata": {},
   "source": [
    "In this notebook, Data Science Tools and Ecosystem are summarized."
   ]
  },
  {
   "cell_type": "markdown",
   "id": "7e0c94b1-512d-42eb-a976-ce2c0bfcba8c",
   "metadata": {},
   "source": [
    "Some of the popular languages that Data Scientists use are:\n",
    "1.) Python\n",
    "2.) SQL (Standard Querying Language) \n",
    "3.) R"
   ]
  },
  {
   "attachments": {},
   "cell_type": "markdown",
   "id": "bccfd55c-e873-4546-9aea-34e1b9453bdb",
   "metadata": {},
   "source": [
    "Some of the commonly used libraries used by Data Scientists include: 1.) matplotlib 2.) ggplot 3.) numpy"
   ]
  },
  {
   "cell_type": "markdown",
   "id": "36f9bf21-ab85-4c0d-b609-b5bdfeb9c212",
   "metadata": {},
   "source": [
    "|Data Science Tools|\n",
    "|------------------|\n",
    "|Git|\n",
    "|Hadoop|\n",
    "|Apache AirFlow| "
   ]
  },
  {
   "cell_type": "markdown",
   "id": "1a2747da-dc0d-446a-bef2-ef846746874d",
   "metadata": {},
   "source": [
    "### Below are a few examples of evaluating arithmetic expressions in Python"
   ]
  },
  {
   "cell_type": "code",
   "execution_count": 4,
   "id": "40c62eb4-ba38-4a76-bb15-67705f394df9",
   "metadata": {},
   "outputs": [
    {
     "data": {
      "text/plain": [
       "17"
      ]
     },
     "execution_count": 4,
     "metadata": {},
     "output_type": "execute_result"
    }
   ],
   "source": [
    "(3*4)+5"
   ]
  },
  {
   "cell_type": "markdown",
   "id": "3c93ea68-cd13-4fed-8bab-68eabe3db07a",
   "metadata": {},
   "source": [
    "This will convert 200 minutes to hours by dividing by 60"
   ]
  },
  {
   "cell_type": "code",
   "execution_count": 6,
   "id": "f75dd91a-f4cd-456c-acec-40f45315e3ba",
   "metadata": {},
   "outputs": [
    {
     "data": {
      "text/plain": [
       "3.3333333333333335"
      ]
     },
     "execution_count": 6,
     "metadata": {},
     "output_type": "execute_result"
    }
   ],
   "source": [
    "(200/60)"
   ]
  },
  {
   "cell_type": "markdown",
   "id": "9213a09c-2b61-4417-9abc-8f5f63118930",
   "metadata": {},
   "source": [
    "**Objectives**"
   ]
  },
  {
   "cell_type": "markdown",
   "id": "e0b90ca0-d023-4250-8d5c-a107bb8d58fc",
   "metadata": {},
   "source": [
    "* Learning what defines a data scientist\n",
    "* Qualities of a good data scientist\n",
    "* Tools used in data scientists\n",
    "* Popular languages in data science and a basic hands-on introduction to them\n",
    "* Learning various terminologies and concepts in data science"
   ]
  },
  {
   "cell_type": "markdown",
   "id": "18c412aa-38b7-435c-a68f-9c07689f3ea3",
   "metadata": {},
   "source": [
    "## Author"
   ]
  },
  {
   "cell_type": "markdown",
   "id": "a4f7bf32-695a-4d08-a4a7-81d8567fa685",
   "metadata": {},
   "source": [
    "Mike Hunt"
   ]
  }
 ],
 "metadata": {
  "kernelspec": {
   "display_name": "Python 3 (ipykernel)",
   "language": "python",
   "name": "python3"
  },
  "language_info": {
   "codemirror_mode": {
    "name": "ipython",
    "version": 3
   },
   "file_extension": ".py",
   "mimetype": "text/x-python",
   "name": "python",
   "nbconvert_exporter": "python",
   "pygments_lexer": "ipython3",
   "version": "3.11.7"
  }
 },
 "nbformat": 4,
 "nbformat_minor": 5
}
